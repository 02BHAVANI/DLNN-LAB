{
  "nbformat": 4,
  "nbformat_minor": 0,
  "metadata": {
    "colab": {
      "provenance": []
    },
    "kernelspec": {
      "name": "python3",
      "display_name": "Python 3"
    },
    "language_info": {
      "name": "python"
    }
  },
  "cells": [
    {
      "cell_type": "code",
      "execution_count": null,
      "metadata": {
        "id": "xQ-_vQu55XIt"
      },
      "outputs": [],
      "source": [
        "# write a program to demonstrate the change in accuracy/loss/convergence time with\n",
        "# change in optimizers like stochastic gradient descent,adam, adagrad, RMSprop and\n",
        "# nadam for any suitable application"
      ]
    },
    {
      "cell_type": "code",
      "source": [
        "import tensorflow as tf\n",
        "import time\n",
        "from tensorflow.keras.datasets import cifar10\n",
        "from tensorflow.keras.models import Sequential\n",
        "from tensorflow.keras.layers import Conv2D, MaxPooling2D, Flatten, Dense, Dropout\n",
        "from tensorflow.keras.utils import to_categorical\n",
        "import matplotlib.pyplot as plt"
      ],
      "metadata": {
        "id": "SI9NTVH7518j"
      },
      "execution_count": null,
      "outputs": []
    },
    {
      "cell_type": "code",
      "source": [
        "# Load and preprocess the CIFAR-10 dataset\n",
        "(x_train, y_train), (x_test, y_test) = cifar10.load_data()\n",
        "x_train, x_test = x_train / 255.0, x_test / 255.0  # Normalize pixel values"
      ],
      "metadata": {
        "id": "efDz2OEe51_i"
      },
      "execution_count": null,
      "outputs": []
    },
    {
      "cell_type": "code",
      "source": [
        "# Convert labels to categorical\n",
        "y_train = to_categorical(y_train, 10)\n",
        "y_test = to_categorical(y_test, 10)"
      ],
      "metadata": {
        "id": "JLtdD6Lp52Ce"
      },
      "execution_count": null,
      "outputs": []
    },
    {
      "cell_type": "code",
      "source": [
        "# Define a function to build a CNN model\n",
        "def build_model():\n",
        "    model = Sequential([\n",
        "        Conv2D(32, (3, 3), activation='relu', input_shape=(32, 32, 3)),\n",
        "        MaxPooling2D((2, 2)),\n",
        "        Conv2D(64, (3, 3), activation='relu'),\n",
        "        MaxPooling2D((2, 2)),\n",
        "        Conv2D(64, (3, 3), activation='relu'),\n",
        "        Flatten(),\n",
        "        Dense(64, activation='relu'),\n",
        "        Dropout(0.5),\n",
        "        Dense(10, activation='softmax')\n",
        "    ])\n",
        "    return model"
      ],
      "metadata": {
        "id": "oQl9__Fz52Fc"
      },
      "execution_count": null,
      "outputs": []
    },
    {
      "cell_type": "code",
      "source": [
        "# Define the optimizers to compare\n",
        "optimizers = {\n",
        "    \"SGD\": tf.keras.optimizers.SGD(),\n",
        "    \"Adam\": tf.keras.optimizers.Adam(),\n",
        "    \"Adagrad\": tf.keras.optimizers.Adagrad(),\n",
        "    \"RMSprop\": tf.keras.optimizers.RMSprop(),\n",
        "    \"Nadam\": tf.keras.optimizers.Nadam()\n",
        "}\n"
      ],
      "metadata": {
        "id": "j0vFas_x52Ia"
      },
      "execution_count": null,
      "outputs": []
    },
    {
      "cell_type": "code",
      "source": [
        "# Train and evaluate the model with each optimizer, and track the results\n",
        "results = {}\n",
        "\n",
        "for opt_name, optimizer in optimizers.items():\n",
        "    print(f\"\\nTraining with {opt_name} optimizer:\")\n",
        "\n",
        "    # Rebuild the model for each optimizer\n",
        "    model = build_model()\n",
        "    model.compile(optimizer=optimizer, loss='categorical_crossentropy', metrics=['accuracy'])\n",
        "\n",
        "    # Record start time\n",
        "    start_time = time.time()\n",
        "\n",
        "    # Train the model\n",
        "    history = model.fit(x_train, y_train, epochs=10, batch_size=64, validation_data=(x_test, y_test), verbose=2)\n",
        "\n",
        "    # Record end time and calculate duration\n",
        "    duration = time.time() - start_time\n",
        "\n",
        "    # Evaluate on test set\n",
        "    test_loss, test_acc = model.evaluate(x_test, y_test, verbose=0)\n",
        "\n",
        "    # Store results\n",
        "    results[opt_name] = {\n",
        "        \"history\": history,\n",
        "        \"test_loss\": test_loss,\n",
        "        \"test_accuracy\": test_acc,\n",
        "        \"convergence_time\": duration\n",
        "    }\n"
      ],
      "metadata": {
        "id": "b1IpDKYN52Lw"
      },
      "execution_count": null,
      "outputs": []
    },
    {
      "cell_type": "code",
      "source": [
        " # Plot accuracy and loss for each optimizer\n",
        "plt.figure(figsize=(14, 6))\n",
        "\n",
        "# Plot accuracy\n",
        "plt.subplot(1, 2, 1)\n",
        "for opt_name, result in results.items():\n",
        "    plt.plot(result[\"history\"].history[\"accuracy\"], label=f'{opt_name} Train')\n",
        "    plt.plot(result[\"history\"].history[\"val_accuracy\"], linestyle='--', label=f'{opt_name} Val')\n",
        "plt.title(\"Model Accuracy per Epoch\")\n",
        "plt.xlabel(\"Epoch\")\n",
        "plt.ylabel(\"Accuracy\")\n",
        "plt.legend()\n",
        "\n",
        "\n",
        "# Plot loss\n",
        "plt.subplot(1, 2, 2)\n",
        "for opt_name, result in results.items():\n",
        "    plt.plot(result[\"history\"].history[\"loss\"], label=f'{opt_name} Train')\n",
        "    plt.plot(result[\"history\"].history[\"val_loss\"], linestyle='--', label=f'{opt_name} Val')\n",
        "plt.title(\"Model Loss per Epoch\")\n",
        "plt.xlabel(\"Epoch\")\n",
        "plt.ylabel(\"Loss\")\n",
        "plt.legend()\n",
        "\n",
        "plt.tight_layout()\n",
        "plt.show()\n",
        "\n"
      ],
      "metadata": {
        "id": "xmK_iD7752Ot"
      },
      "execution_count": null,
      "outputs": []
    },
    {
      "cell_type": "code",
      "source": [
        "# Display convergence times and final accuracy/loss for each optimizer\n",
        "for opt_name, result in results.items():\n",
        "    print(f\"\\n{opt_name} Optimizer:\")\n",
        "    print(f\"  - Test Accuracy: {result['test_accuracy']:.4f}\")\n",
        "    print(f\"  - Test Loss: {result['test_loss']:.4f}\")\n",
        "    print(f\"  - Convergence Time: {result['convergence_time']:.2f} seconds\")"
      ],
      "metadata": {
        "id": "hcPt9Tc252UW"
      },
      "execution_count": null,
      "outputs": []
    },
    {
      "cell_type": "code",
      "source": [],
      "metadata": {
        "id": "FlHpTpcE52Xe"
      },
      "execution_count": null,
      "outputs": []
    }
  ]
}