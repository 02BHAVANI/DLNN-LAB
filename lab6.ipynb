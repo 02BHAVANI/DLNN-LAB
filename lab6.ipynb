{
  "nbformat": 4,
  "nbformat_minor": 0,
  "metadata": {
    "colab": {
      "provenance": []
    },
    "kernelspec": {
      "name": "python3",
      "display_name": "Python 3"
    },
    "language_info": {
      "name": "python"
    }
  },
  "cells": [
    {
      "cell_type": "code",
      "execution_count": null,
      "metadata": {
        "id": "nKwbK_fd7seq"
      },
      "outputs": [],
      "source": [
        "# Apply transfer learning with pre-trained VGG16/ResNet50MobileNet model on\n",
        "# given dataset and analyze the results"
      ]
    },
    {
      "cell_type": "code",
      "source": [
        "import tensorflow as tf\n",
        "from tensorflow.keras.datasets import cifar10\n",
        "from tensorflow.keras.preprocessing import image\n",
        "from tensorflow.keras.applications import VGG16, ResNet50, MobileNet\n",
        "from tensorflow.keras.applications.vgg16 import preprocess_input\n",
        "from tensorflow.keras.applications.resnet50 import preprocess_input as preprocess_input_resnet\n",
        "from tensorflow.keras.applications.mobilenet import preprocess_input as preprocess_input_mobilenet\n",
        "from tensorflow.keras.models import Model\n",
        "from tensorflow.keras.layers import Dense, GlobalAveragePooling2D\n",
        "from tensorflow.keras.optimizers import Adam"
      ],
      "metadata": {
        "id": "gmLNiI_X8DSF"
      },
      "execution_count": 1,
      "outputs": []
    },
    {
      "cell_type": "code",
      "source": [
        "# Load CIFAR-10 data\n",
        "(x_train, y_train), (x_test, y_test) = cifar10.load_data()\n",
        "\n",
        "# Normalize the pixel values to [0, 1]\n",
        "x_train, x_test = x_train / 255.0, x_test / 255.0\n",
        "\n",
        "# Convert labels to one-hot encoding\n",
        "y_train = tf.keras.utils.to_categorical(y_train, 10)\n",
        "y_test = tf.keras.utils.to_categorical(y_test, 10)"
      ],
      "metadata": {
        "id": "5pFgsz7d8DUq",
        "colab": {
          "base_uri": "https://localhost:8080/"
        },
        "outputId": "205d7020-b102-45ea-e6c4-394eb65a1ef5"
      },
      "execution_count": 2,
      "outputs": [
        {
          "output_type": "stream",
          "name": "stdout",
          "text": [
            "Downloading data from https://www.cs.toronto.edu/~kriz/cifar-10-python.tar.gz\n",
            "\u001b[1m170498071/170498071\u001b[0m \u001b[32m━━━━━━━━━━━━━━━━━━━━\u001b[0m\u001b[37m\u001b[0m \u001b[1m14s\u001b[0m 0us/step\n"
          ]
        }
      ]
    },
    {
      "cell_type": "code",
      "source": [
        "# For VGG16\n",
        "x_train_vgg16 = preprocess_input(x_train)\n",
        "x_test_vgg16 = preprocess_input(x_test)\n",
        "\n",
        "base_model_vgg16 = VGG16(weights='imagenet', include_top=False, input_shape=(32, 32, 3))\n",
        "\n",
        "# Freeze the base model layers\n",
        "for layer in base_model_vgg16.layers:\n",
        "    layer.trainable = False\n",
        "\n",
        "x = GlobalAveragePooling2D()(base_model_vgg16.output)\n",
        "x = Dense(512, activation='relu')(x)\n",
        "x = Dense(10, activation='softmax')(x)\n",
        "\n",
        "model_vgg16 = Model(inputs=base_model_vgg16.input, outputs=x)\n",
        "model_vgg16.compile(optimizer=Adam(), loss='categorical_crossentropy', metrics=['accuracy'])\n",
        "\n",
        "# Train VGG16\n",
        "history_vgg16 = model_vgg16.fit(\n",
        "    x_train_vgg16, y_train,\n",
        "    epochs=1,\n",
        "    validation_data=(x_test_vgg16, y_test),\n",
        "    batch_size=64\n",
        ")\n",
        "\n",
        "# Evaluate VGG16\n",
        "val_loss_vgg16, val_acc_vgg16 = model_vgg16.evaluate(x_test_vgg16, y_test)\n",
        "print(f\"VGG16 - Test Accuracy: {val_acc_vgg16:.4f}, Test Loss: {val_loss_vgg16:.4f}\")"
      ],
      "metadata": {
        "id": "lz8iLW1e8DW5",
        "colab": {
          "base_uri": "https://localhost:8080/"
        },
        "outputId": "8b0426ae-ba15-46aa-cd3c-f5c5f20fb2b4"
      },
      "execution_count": 4,
      "outputs": [
        {
          "output_type": "stream",
          "name": "stdout",
          "text": [
            "\u001b[1m782/782\u001b[0m \u001b[32m━━━━━━━━━━━━━━━━━━━━\u001b[0m\u001b[37m\u001b[0m \u001b[1m790s\u001b[0m 1s/step - accuracy: 0.1252 - loss: 2.9641 - val_accuracy: 0.1684 - val_loss: 2.4202\n",
            "\u001b[1m313/313\u001b[0m \u001b[32m━━━━━━━━━━━━━━━━━━━━\u001b[0m\u001b[37m\u001b[0m \u001b[1m129s\u001b[0m 411ms/step - accuracy: 0.1641 - loss: 2.4315\n",
            "VGG16 - Test Accuracy: 0.1684, Test Loss: 2.4202\n"
          ]
        }
      ]
    },
    {
      "cell_type": "code",
      "source": [
        "# For ResNet50\n",
        "x_train_resnet50 = preprocess_input_resnet(x_train)\n",
        "x_test_resnet50 = preprocess_input_resnet(x_test)\n",
        "\n",
        "base_model_resnet50 = ResNet50(weights='imagenet', include_top=False, input_shape=(32, 32, 3))\n",
        "\n",
        "# Freeze the base model layers\n",
        "for layer in base_model_resnet50.layers:\n",
        "    layer.trainable = False\n",
        "\n",
        "x = GlobalAveragePooling2D()(base_model_resnet50.output)\n",
        "x = Dense(512, activation='relu')(x)\n",
        "x = Dense(10, activation='softmax')(x)\n",
        "\n",
        "model_resnet50 = Model(inputs=base_model_resnet50.input, outputs=x)\n",
        "model_resnet50.compile(optimizer=Adam(), loss='categorical_crossentropy', metrics=['accuracy'])\n",
        "\n",
        "# train\n",
        "history_resnet50 = model_resnet50.fit(\n",
        "    x_train_resnet50, y_train,\n",
        "    epochs=5,\n",
        "    validation_data=(x_test_resnet50, y_test),\n",
        "    batch_size=64\n",
        ")\n",
        "\n",
        "val_loss_resnet50, val_acc_resnet50 = model_resnet50.evaluate(x_test_resnet50, y_test)\n",
        "print(f\"ResNet50 - Test Accuracy: {val_acc_resnet50:.4f}, Test Loss: {val_loss_resnet50:.4f}\")"
      ],
      "metadata": {
        "id": "nkAbcSh78DZG"
      },
      "execution_count": null,
      "outputs": []
    },
    {
      "cell_type": "code",
      "source": [
        "# For MobileNet\n",
        "x_train_mobilenet = preprocess_input_mobilenet(x_train)\n",
        "x_test_mobilenet = preprocess_input_mobilenet(x_test)\n",
        "\n",
        "base_model_mobilenet = MobileNet(weights='imagenet', include_top=False, input_shape=(32, 32, 3))\n",
        "\n",
        "# Freeze the base model layers\n",
        "for layer in base_model_mobilenet.layers:\n",
        "    layer.trainable = False\n",
        "\n",
        "x = GlobalAveragePooling2D()(base_model_mobilenet.output)\n",
        "x = Dense(512, activation='relu')(x)\n",
        "x = Dense(10, activation='softmax')(x)\n",
        "\n",
        "model_mobilenet = Model(inputs=base_model_mobilenet.input, outputs=x)\n",
        "model_mobilenet.compile(optimizer=Adam(), loss='categorical_crossentropy', metrics=['accuracy'])\n",
        "\n",
        "# train\n",
        "history_mobilenet = model_mobilenet.fit(\n",
        "    x_train_mobilenet, y_train,\n",
        "    epochs=5,\n",
        "    validation_data=(x_test_mobilenet, y_test),\n",
        "    batch_size=64\n",
        ")\n",
        "\n",
        "\n",
        "# Evaluate MobileNet\n",
        "val_loss_mobilenet, val_acc_mobilenet = model_mobilenet.evaluate(x_test_mobilenet, y_test)\n",
        "print(f\"MobileNet - Test Accuracy: {val_acc_mobilenet:.4f}, Test Loss: {val_loss_mobilenet:.4f}\")"
      ],
      "metadata": {
        "id": "6PWWPjDS8Dbd"
      },
      "execution_count": null,
      "outputs": []
    },
    {
      "cell_type": "code",
      "source": [
        "# visualize\n",
        "import matplotlib.pyplot as plt\n",
        "\n",
        "def plot_history(history, model_name):\n",
        "    plt.plot(history.history['accuracy'], label='accuracy')\n",
        "    plt.plot(history.history['val_accuracy'], label='val_accuracy')\n",
        "    plt.xlabel('Epochs')\n",
        "    plt.ylabel('Accuracy')\n",
        "    plt.title(f'{model_name} - Accuracy')\n",
        "    plt.legend()\n",
        "    plt.show()\n",
        "\n",
        "    plt.plot(history.history['loss'], label='loss')\n",
        "    plt.plot(history.history['val_loss'], label='val_loss')\n",
        "    plt.xlabel('Epochs')\n",
        "    plt.ylabel('Loss')\n",
        "    plt.title(f'{model_name} - Loss')\n",
        "    plt.legend()\n",
        "    plt.show()\n",
        "\n",
        "# Plot results\n",
        "plot_history(history_vgg16, 'VGG16')\n",
        "plot_history(history_resnet50, 'ResNet50')\n",
        "plot_history(history_mobilenet, 'MobileNet')\n"
      ],
      "metadata": {
        "id": "76aOehb98Dds"
      },
      "execution_count": null,
      "outputs": []
    },
    {
      "cell_type": "code",
      "source": [],
      "metadata": {
        "id": "OiU7eeuY8Dih"
      },
      "execution_count": null,
      "outputs": []
    }
  ]
}